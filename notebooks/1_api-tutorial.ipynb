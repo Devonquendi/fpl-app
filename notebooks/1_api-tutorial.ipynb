{
 "cells": [
  {
   "cell_type": "markdown",
   "metadata": {},
   "source": [
    "# How to access FPL API data"
   ]
  },
  {
   "cell_type": "code",
   "execution_count": 1,
   "metadata": {},
   "outputs": [],
   "source": [
    "import requests, os, time\r\n",
    "from pprint import pprint\r\n",
    "import pandas as pd\r\n",
    "from tqdm.auto import tqdm\r\n",
    "tqdm.pandas()\r\n",
    "\r\n",
    "pd.set_option('display.max_columns', None)"
   ]
  },
  {
   "cell_type": "markdown",
   "metadata": {},
   "source": [
    "## Bootstrap_url\r\n",
    "This endpoint returns the data for players, positions and teams. We can inspect the different entities returned by this endpoint using the `pprint()` function with the `depth` parameter set to 1"
   ]
  },
  {
   "cell_type": "code",
   "execution_count": 2,
   "metadata": {},
   "outputs": [
    {
     "name": "stdout",
     "output_type": "stream",
     "text": [
      "{ 'element_stats': [...],\n",
      "  'element_types': [...],\n",
      "  'elements': [...],\n",
      "  'events': [...],\n",
      "  'game_settings': {...},\n",
      "  'phases': [...],\n",
      "  'teams': [...],\n",
      "  'total_players': 8234727}\n"
     ]
    }
   ],
   "source": [
    "# base url for all FPL API endpoints\n",
    "base_url = 'https://fantasy.premierleague.com/api/'\n",
    "\n",
    "# get data from bootstrap-static endpoint\n",
    "r = requests.get(base_url+'bootstrap-static/').json()\n",
    "\n",
    "# show the top level fields\n",
    "pprint(r, indent=2, depth=1, compact=True)"
   ]
  },
  {
   "cell_type": "markdown",
   "metadata": {},
   "source": [
    "### Players\r\n",
    "Player data can be found in the `elements` entity. The response from the `bootstrap_url` endpoint is in json format, which is essentially just a dictionary of keys and values.   \r\n",
    "Therefore, to get the `elements` entity, we can use `r['elements']` "
   ]
  },
  {
   "cell_type": "code",
   "execution_count": 3,
   "metadata": {},
   "outputs": [
    {
     "name": "stdout",
     "output_type": "stream",
     "text": [
      "{'assists': 0,\n",
      " 'bonus': 0,\n",
      " 'bps': 0,\n",
      " 'chance_of_playing_next_round': 0,\n",
      " 'chance_of_playing_this_round': 0,\n",
      " 'clean_sheets': 0,\n",
      " 'code': 37605,\n",
      " 'corners_and_indirect_freekicks_order': None,\n",
      " 'corners_and_indirect_freekicks_text': '',\n",
      " 'cost_change_event': 0,\n",
      " 'cost_change_event_fall': 0,\n",
      " 'cost_change_start': -3,\n",
      " 'cost_change_start_fall': 3,\n",
      " 'creativity': '0.0',\n",
      " 'creativity_rank': 706,\n",
      " 'creativity_rank_type': 290,\n",
      " 'direct_freekicks_order': None,\n",
      " 'direct_freekicks_text': '',\n",
      " 'dreamteam_count': 0,\n",
      " 'element_type': 3,\n",
      " 'ep_next': '0.0',\n",
      " 'ep_this': '0.0',\n",
      " 'event_points': 0,\n",
      " 'first_name': 'Mesut',\n",
      " 'form': '0.0',\n",
      " 'goals_conceded': 0,\n",
      " 'goals_scored': 0,\n",
      " 'ict_index': '0.0',\n",
      " 'ict_index_rank': 706,\n",
      " 'ict_index_rank_type': 290,\n",
      " 'id': 1,\n",
      " 'in_dreamteam': False,\n",
      " 'influence': '0.0',\n",
      " 'influence_rank': 706,\n",
      " 'influence_rank_type': 290,\n",
      " 'minutes': 0,\n",
      " 'news': \"Not included in Arsenal's 25-man Premier League squad\",\n",
      " 'news_added': '2020-10-20T22:30:18.118477Z',\n",
      " 'now_cost': 67,\n",
      " 'own_goals': 0,\n",
      " 'penalties_missed': 0,\n",
      " 'penalties_order': None,\n",
      " 'penalties_saved': 0,\n",
      " 'penalties_text': '',\n",
      " 'photo': '37605.jpg',\n",
      " 'points_per_game': '0.0',\n",
      " 'red_cards': 0,\n",
      " 'saves': 0,\n",
      " 'second_name': 'Özil',\n",
      " 'selected_by_percent': '0.5',\n",
      " 'special': False,\n",
      " 'squad_number': None,\n",
      " 'status': 'u',\n",
      " 'team': 1,\n",
      " 'team_code': 3,\n",
      " 'threat': '0.0',\n",
      " 'threat_rank': 706,\n",
      " 'threat_rank_type': 290,\n",
      " 'total_points': 0,\n",
      " 'transfers_in': 3441,\n",
      " 'transfers_in_event': 0,\n",
      " 'transfers_out': 54924,\n",
      " 'transfers_out_event': 10,\n",
      " 'value_form': '0.0',\n",
      " 'value_season': '0.0',\n",
      " 'web_name': 'Özil',\n",
      " 'yellow_cards': 0}\n"
     ]
    }
   ],
   "source": [
    "# get player data from 'elements' field\n",
    "players = r['elements']\n",
    "\n",
    "# show data for first player\n",
    "pprint(players[0])"
   ]
  },
  {
   "cell_type": "markdown",
   "metadata": {},
   "source": [
    "### Use pandas for cleaner visualisation\r\n",
    "Pandas can easily convert JSON data into a dataframe using the `json_normalize()` function."
   ]
  },
  {
   "cell_type": "code",
   "execution_count": 4,
   "metadata": {},
   "outputs": [
    {
     "data": {
      "text/html": "<div>\n<style scoped>\n    .dataframe tbody tr th:only-of-type {\n        vertical-align: middle;\n    }\n\n    .dataframe tbody tr th {\n        vertical-align: top;\n    }\n\n    .dataframe thead th {\n        text-align: right;\n    }\n</style>\n<table border=\"1\" class=\"dataframe\">\n  <thead>\n    <tr style=\"text-align: right;\">\n      <th></th>\n      <th>id</th>\n      <th>web_name</th>\n      <th>team</th>\n      <th>element_type</th>\n    </tr>\n  </thead>\n  <tbody>\n    <tr>\n      <th>0</th>\n      <td>1</td>\n      <td>Özil</td>\n      <td>1</td>\n      <td>3</td>\n    </tr>\n    <tr>\n      <th>1</th>\n      <td>2</td>\n      <td>Sokratis</td>\n      <td>1</td>\n      <td>2</td>\n    </tr>\n    <tr>\n      <th>2</th>\n      <td>3</td>\n      <td>David Luiz</td>\n      <td>1</td>\n      <td>2</td>\n    </tr>\n    <tr>\n      <th>3</th>\n      <td>4</td>\n      <td>Aubameyang</td>\n      <td>1</td>\n      <td>3</td>\n    </tr>\n    <tr>\n      <th>4</th>\n      <td>5</td>\n      <td>Cédric</td>\n      <td>1</td>\n      <td>2</td>\n    </tr>\n  </tbody>\n</table>\n</div>",
      "text/plain": "   id    web_name  team  element_type\n0   1        Özil     1             3\n1   2    Sokratis     1             2\n2   3  David Luiz     1             2\n3   4  Aubameyang     1             3\n4   5      Cédric     1             2"
     },
     "execution_count": 4,
     "metadata": {},
     "output_type": "execute_result"
    }
   ],
   "source": [
    "# create players dataframe\n",
    "players = pd.json_normalize(r['elements'])\n",
    "\n",
    "# show some information about first five players\n",
    "players[['id', 'web_name', 'team', 'element_type']].head()"
   ]
  },
  {
   "cell_type": "code",
   "execution_count": 5,
   "metadata": {},
   "outputs": [],
   "source": [
    "data_folder = os.path.join('..', 'data', '2020-21')\r\n",
    "\r\n",
    "# select columns of interest and save as CSV\r\n",
    "players = players[\r\n",
    "    ['first_name', 'second_name', 'web_name', 'id', 'team', 'total_points',\r\n",
    "     'dreamteam_count', 'element_type', 'in_dreamteam', 'now_cost',\r\n",
    "     'points_per_game', 'minutes', 'goals_scored', 'assists', 'clean_sheets', \r\n",
    "     'goals_conceded', 'own_goals', 'penalties_saved', 'penalties_missed',\r\n",
    "     'yellow_cards', 'red_cards', 'saves', 'bonus', 'bps', 'influence',\r\n",
    "     'creativity', 'threat', 'ict_index']]\r\n",
    "\r\n",
    "players.to_csv(os.path.join(data_folder, 'players.csv'), index=False)"
   ]
  },
  {
   "cell_type": "markdown",
   "metadata": {},
   "source": [
    "### Teams"
   ]
  },
  {
   "cell_type": "code",
   "execution_count": 6,
   "metadata": {},
   "outputs": [
    {
     "data": {
      "text/html": "<div>\n<style scoped>\n    .dataframe tbody tr th:only-of-type {\n        vertical-align: middle;\n    }\n\n    .dataframe tbody tr th {\n        vertical-align: top;\n    }\n\n    .dataframe thead th {\n        text-align: right;\n    }\n</style>\n<table border=\"1\" class=\"dataframe\">\n  <thead>\n    <tr style=\"text-align: right;\">\n      <th></th>\n      <th>code</th>\n      <th>draw</th>\n      <th>form</th>\n      <th>id</th>\n      <th>loss</th>\n      <th>name</th>\n      <th>played</th>\n      <th>points</th>\n      <th>position</th>\n      <th>short_name</th>\n      <th>strength</th>\n      <th>team_division</th>\n      <th>unavailable</th>\n      <th>win</th>\n      <th>strength_overall_home</th>\n      <th>strength_overall_away</th>\n      <th>strength_attack_home</th>\n      <th>strength_attack_away</th>\n      <th>strength_defence_home</th>\n      <th>strength_defence_away</th>\n      <th>pulse_id</th>\n    </tr>\n  </thead>\n  <tbody>\n    <tr>\n      <th>0</th>\n      <td>3</td>\n      <td>0</td>\n      <td>None</td>\n      <td>1</td>\n      <td>0</td>\n      <td>Arsenal</td>\n      <td>0</td>\n      <td>0</td>\n      <td>0</td>\n      <td>ARS</td>\n      <td>4</td>\n      <td>None</td>\n      <td>False</td>\n      <td>0</td>\n      <td>1200</td>\n      <td>1250</td>\n      <td>1130</td>\n      <td>1150</td>\n      <td>1220</td>\n      <td>1210</td>\n      <td>1</td>\n    </tr>\n    <tr>\n      <th>1</th>\n      <td>7</td>\n      <td>0</td>\n      <td>None</td>\n      <td>2</td>\n      <td>0</td>\n      <td>Aston Villa</td>\n      <td>0</td>\n      <td>0</td>\n      <td>0</td>\n      <td>AVL</td>\n      <td>3</td>\n      <td>None</td>\n      <td>False</td>\n      <td>0</td>\n      <td>1100</td>\n      <td>1160</td>\n      <td>1120</td>\n      <td>1140</td>\n      <td>1080</td>\n      <td>1100</td>\n      <td>2</td>\n    </tr>\n    <tr>\n      <th>2</th>\n      <td>36</td>\n      <td>0</td>\n      <td>None</td>\n      <td>3</td>\n      <td>0</td>\n      <td>Brighton</td>\n      <td>0</td>\n      <td>0</td>\n      <td>0</td>\n      <td>BHA</td>\n      <td>3</td>\n      <td>None</td>\n      <td>False</td>\n      <td>0</td>\n      <td>1130</td>\n      <td>1130</td>\n      <td>1150</td>\n      <td>1190</td>\n      <td>1100</td>\n      <td>1130</td>\n      <td>131</td>\n    </tr>\n    <tr>\n      <th>3</th>\n      <td>90</td>\n      <td>0</td>\n      <td>None</td>\n      <td>4</td>\n      <td>0</td>\n      <td>Burnley</td>\n      <td>0</td>\n      <td>0</td>\n      <td>0</td>\n      <td>BUR</td>\n      <td>2</td>\n      <td>None</td>\n      <td>False</td>\n      <td>0</td>\n      <td>1060</td>\n      <td>1070</td>\n      <td>1040</td>\n      <td>1090</td>\n      <td>1040</td>\n      <td>1080</td>\n      <td>43</td>\n    </tr>\n    <tr>\n      <th>4</th>\n      <td>8</td>\n      <td>0</td>\n      <td>None</td>\n      <td>5</td>\n      <td>0</td>\n      <td>Chelsea</td>\n      <td>0</td>\n      <td>0</td>\n      <td>0</td>\n      <td>CHE</td>\n      <td>4</td>\n      <td>None</td>\n      <td>False</td>\n      <td>0</td>\n      <td>1250</td>\n      <td>1280</td>\n      <td>1260</td>\n      <td>1300</td>\n      <td>1250</td>\n      <td>1310</td>\n      <td>4</td>\n    </tr>\n  </tbody>\n</table>\n</div>",
      "text/plain": "   code  draw  form  id  loss         name  played  points  position  \\\n0     3     0  None   1     0      Arsenal       0       0         0   \n1     7     0  None   2     0  Aston Villa       0       0         0   \n2    36     0  None   3     0     Brighton       0       0         0   \n3    90     0  None   4     0      Burnley       0       0         0   \n4     8     0  None   5     0      Chelsea       0       0         0   \n\n  short_name  strength team_division  unavailable  win  strength_overall_home  \\\n0        ARS         4          None        False    0                   1200   \n1        AVL         3          None        False    0                   1100   \n2        BHA         3          None        False    0                   1130   \n3        BUR         2          None        False    0                   1060   \n4        CHE         4          None        False    0                   1250   \n\n   strength_overall_away  strength_attack_home  strength_attack_away  \\\n0                   1250                  1130                  1150   \n1                   1160                  1120                  1140   \n2                   1130                  1150                  1190   \n3                   1070                  1040                  1090   \n4                   1280                  1260                  1300   \n\n   strength_defence_home  strength_defence_away  pulse_id  \n0                   1220                   1210         1  \n1                   1080                   1100         2  \n2                   1100                   1130       131  \n3                   1040                   1080        43  \n4                   1250                   1310         4  "
     },
     "execution_count": 6,
     "metadata": {},
     "output_type": "execute_result"
    }
   ],
   "source": [
    "# create teams dataframe\n",
    "teams = pd.json_normalize(r['teams'])\n",
    "\n",
    "teams.head()"
   ]
  },
  {
   "cell_type": "code",
   "execution_count": 7,
   "metadata": {},
   "outputs": [],
   "source": [
    "# select columns of interest and save as CSV\r\n",
    "teams.drop(['code', 'draw', 'form', 'loss', 'points', 'position',\r\n",
    "            'team_division', 'unavailable', 'pulse_id'], axis=1, inplace=True)\r\n",
    "\r\n",
    "teams.to_csv(os.path.join(data_folder, 'teams.csv'), index=False)"
   ]
  },
  {
   "cell_type": "markdown",
   "metadata": {},
   "source": [
    "### Player positions"
   ]
  },
  {
   "cell_type": "code",
   "execution_count": 8,
   "metadata": {},
   "outputs": [
    {
     "data": {
      "text/html": "<div>\n<style scoped>\n    .dataframe tbody tr th:only-of-type {\n        vertical-align: middle;\n    }\n\n    .dataframe tbody tr th {\n        vertical-align: top;\n    }\n\n    .dataframe thead th {\n        text-align: right;\n    }\n</style>\n<table border=\"1\" class=\"dataframe\">\n  <thead>\n    <tr style=\"text-align: right;\">\n      <th></th>\n      <th>id</th>\n      <th>plural_name</th>\n      <th>plural_name_short</th>\n      <th>singular_name</th>\n      <th>singular_name_short</th>\n      <th>squad_select</th>\n      <th>squad_min_play</th>\n      <th>squad_max_play</th>\n      <th>ui_shirt_specific</th>\n      <th>sub_positions_locked</th>\n      <th>element_count</th>\n    </tr>\n  </thead>\n  <tbody>\n    <tr>\n      <th>0</th>\n      <td>1</td>\n      <td>Goalkeepers</td>\n      <td>GKP</td>\n      <td>Goalkeeper</td>\n      <td>GKP</td>\n      <td>2</td>\n      <td>1</td>\n      <td>1</td>\n      <td>True</td>\n      <td>[12]</td>\n      <td>80</td>\n    </tr>\n    <tr>\n      <th>1</th>\n      <td>2</td>\n      <td>Defenders</td>\n      <td>DEF</td>\n      <td>Defender</td>\n      <td>DEF</td>\n      <td>5</td>\n      <td>3</td>\n      <td>5</td>\n      <td>False</td>\n      <td>[]</td>\n      <td>245</td>\n    </tr>\n    <tr>\n      <th>2</th>\n      <td>3</td>\n      <td>Midfielders</td>\n      <td>MID</td>\n      <td>Midfielder</td>\n      <td>MID</td>\n      <td>5</td>\n      <td>2</td>\n      <td>5</td>\n      <td>False</td>\n      <td>[]</td>\n      <td>290</td>\n    </tr>\n    <tr>\n      <th>3</th>\n      <td>4</td>\n      <td>Forwards</td>\n      <td>FWD</td>\n      <td>Forward</td>\n      <td>FWD</td>\n      <td>3</td>\n      <td>1</td>\n      <td>3</td>\n      <td>False</td>\n      <td>[]</td>\n      <td>91</td>\n    </tr>\n  </tbody>\n</table>\n</div>",
      "text/plain": "   id  plural_name plural_name_short singular_name singular_name_short  \\\n0   1  Goalkeepers               GKP    Goalkeeper                 GKP   \n1   2    Defenders               DEF      Defender                 DEF   \n2   3  Midfielders               MID    Midfielder                 MID   \n3   4     Forwards               FWD       Forward                 FWD   \n\n   squad_select  squad_min_play  squad_max_play  ui_shirt_specific  \\\n0             2               1               1               True   \n1             5               3               5              False   \n2             5               2               5              False   \n3             3               1               3              False   \n\n  sub_positions_locked  element_count  \n0                 [12]             80  \n1                   []            245  \n2                   []            290  \n3                   []             91  "
     },
     "execution_count": 8,
     "metadata": {},
     "output_type": "execute_result"
    }
   ],
   "source": [
    "# get position information from 'element_types' field\n",
    "positions = pd.json_normalize(r['element_types'])\n",
    "\n",
    "positions.head()"
   ]
  },
  {
   "cell_type": "code",
   "execution_count": 9,
   "metadata": {},
   "outputs": [],
   "source": [
    "# select columns of interest and save as CSV\r\n",
    "positions = positions[[\r\n",
    "    'id', 'singular_name', 'singular_name_short', 'squad_select',\r\n",
    "    'squad_min_play', 'squad_max_play']]\r\n",
    "positions.to_csv(os.path.join(data_folder, 'positions.csv'), index=False)"
   ]
  },
  {
   "cell_type": "markdown",
   "metadata": {},
   "source": [
    "## Combined dataset"
   ]
  },
  {
   "cell_type": "code",
   "execution_count": 10,
   "metadata": {},
   "outputs": [
    {
     "data": {
      "text/html": "<div>\n<style scoped>\n    .dataframe tbody tr th:only-of-type {\n        vertical-align: middle;\n    }\n\n    .dataframe tbody tr th {\n        vertical-align: top;\n    }\n\n    .dataframe thead th {\n        text-align: right;\n    }\n</style>\n<table border=\"1\" class=\"dataframe\">\n  <thead>\n    <tr style=\"text-align: right;\">\n      <th></th>\n      <th>id</th>\n      <th>first_name</th>\n      <th>second_name</th>\n      <th>web_name</th>\n      <th>team_name</th>\n      <th>position</th>\n    </tr>\n  </thead>\n  <tbody>\n    <tr>\n      <th>0</th>\n      <td>1</td>\n      <td>Mesut</td>\n      <td>Özil</td>\n      <td>Özil</td>\n      <td>Arsenal</td>\n      <td>MID</td>\n    </tr>\n    <tr>\n      <th>1</th>\n      <td>4</td>\n      <td>Pierre-Emerick</td>\n      <td>Aubameyang</td>\n      <td>Aubameyang</td>\n      <td>Arsenal</td>\n      <td>MID</td>\n    </tr>\n    <tr>\n      <th>2</th>\n      <td>9</td>\n      <td>Granit</td>\n      <td>Xhaka</td>\n      <td>Xhaka</td>\n      <td>Arsenal</td>\n      <td>MID</td>\n    </tr>\n    <tr>\n      <th>3</th>\n      <td>18</td>\n      <td>Nicolas</td>\n      <td>Pépé</td>\n      <td>Pépé</td>\n      <td>Arsenal</td>\n      <td>MID</td>\n    </tr>\n    <tr>\n      <th>4</th>\n      <td>19</td>\n      <td>Lucas</td>\n      <td>Torreira</td>\n      <td>Torreira</td>\n      <td>Arsenal</td>\n      <td>MID</td>\n    </tr>\n  </tbody>\n</table>\n</div>",
      "text/plain": "   id      first_name second_name    web_name team_name position\n0   1           Mesut        Özil        Özil   Arsenal      MID\n1   4  Pierre-Emerick  Aubameyang  Aubameyang   Arsenal      MID\n2   9          Granit       Xhaka       Xhaka   Arsenal      MID\n3  18         Nicolas        Pépé        Pépé   Arsenal      MID\n4  19           Lucas    Torreira    Torreira   Arsenal      MID"
     },
     "execution_count": 10,
     "metadata": {},
     "output_type": "execute_result"
    }
   ],
   "source": [
    "# select columns of interest from players df\r\n",
    "df = players[[\r\n",
    "    'id', 'first_name', 'second_name', 'web_name', 'team', 'element_type']]\r\n",
    "\r\n",
    "# join team name\r\n",
    "df = df.merge(\r\n",
    "    teams[['id', 'name']],\r\n",
    "    left_on='team',\r\n",
    "    right_on='id',\r\n",
    "    suffixes=['_player', None]\r\n",
    ").drop(\r\n",
    "    ['team', 'id'], axis=1\r\n",
    "# join player positions\r\n",
    ").merge(\r\n",
    "    positions[['id', 'singular_name_short']],\r\n",
    "    left_on='element_type',\r\n",
    "    right_on='id'\r\n",
    ").drop(\r\n",
    "    ['element_type', 'id'], axis=1)\r\n",
    "\r\n",
    "df.rename(columns={'id_player': 'id', 'name': 'team_name',\r\n",
    "                   'singular_name_short': 'position'},\r\n",
    "          inplace=True)\r\n",
    "\r\n",
    "df.head()"
   ]
  },
  {
   "cell_type": "markdown",
   "metadata": {},
   "source": [
    "### Player gameweek history\r\n",
    "Individual gameweek scores can be retrieved on a per-player basis"
   ]
  },
  {
   "cell_type": "code",
   "execution_count": 11,
   "metadata": {},
   "outputs": [
    {
     "name": "stdout",
     "output_type": "stream",
     "text": [
      "{'fixtures': [...], 'history': [...], 'history_past': [...]}\n"
     ]
    }
   ],
   "source": [
    "# get data from 'element-summary/{PID}/' endpoint for PID=4\n",
    "r = requests.get(base_url + 'element-summary/4/').json()\n",
    "\n",
    "# show top-level fields for player summary\n",
    "pprint(r, depth=1)"
   ]
  },
  {
   "cell_type": "code",
   "execution_count": 12,
   "metadata": {},
   "outputs": [
    {
     "data": {
      "text/html": "<div>\n<style scoped>\n    .dataframe tbody tr th:only-of-type {\n        vertical-align: middle;\n    }\n\n    .dataframe tbody tr th {\n        vertical-align: top;\n    }\n\n    .dataframe thead th {\n        text-align: right;\n    }\n</style>\n<table border=\"1\" class=\"dataframe\">\n  <thead>\n    <tr style=\"text-align: right;\">\n      <th></th>\n      <th>element</th>\n      <th>fixture</th>\n      <th>opponent_team</th>\n      <th>total_points</th>\n      <th>was_home</th>\n      <th>kickoff_time</th>\n      <th>team_h_score</th>\n      <th>team_a_score</th>\n      <th>round</th>\n      <th>minutes</th>\n      <th>goals_scored</th>\n      <th>assists</th>\n      <th>clean_sheets</th>\n      <th>goals_conceded</th>\n      <th>own_goals</th>\n      <th>penalties_saved</th>\n      <th>penalties_missed</th>\n      <th>yellow_cards</th>\n      <th>red_cards</th>\n      <th>saves</th>\n      <th>bonus</th>\n      <th>bps</th>\n      <th>influence</th>\n      <th>creativity</th>\n      <th>threat</th>\n      <th>ict_index</th>\n      <th>value</th>\n      <th>transfers_balance</th>\n      <th>selected</th>\n      <th>transfers_in</th>\n      <th>transfers_out</th>\n    </tr>\n  </thead>\n  <tbody>\n    <tr>\n      <th>0</th>\n      <td>4</td>\n      <td>2</td>\n      <td>8</td>\n      <td>7</td>\n      <td>False</td>\n      <td>2020-09-12T11:30:00Z</td>\n      <td>0</td>\n      <td>3</td>\n      <td>1</td>\n      <td>90</td>\n      <td>1</td>\n      <td>0</td>\n      <td>1</td>\n      <td>0</td>\n      <td>0</td>\n      <td>0</td>\n      <td>0</td>\n      <td>1</td>\n      <td>0</td>\n      <td>0</td>\n      <td>0</td>\n      <td>19</td>\n      <td>36.6</td>\n      <td>15.3</td>\n      <td>54.0</td>\n      <td>10.6</td>\n      <td>120</td>\n      <td>0</td>\n      <td>2823465</td>\n      <td>0</td>\n      <td>0</td>\n    </tr>\n    <tr>\n      <th>1</th>\n      <td>4</td>\n      <td>9</td>\n      <td>19</td>\n      <td>5</td>\n      <td>True</td>\n      <td>2020-09-19T19:00:00Z</td>\n      <td>2</td>\n      <td>1</td>\n      <td>2</td>\n      <td>90</td>\n      <td>0</td>\n      <td>1</td>\n      <td>0</td>\n      <td>1</td>\n      <td>0</td>\n      <td>0</td>\n      <td>0</td>\n      <td>0</td>\n      <td>0</td>\n      <td>0</td>\n      <td>0</td>\n      <td>20</td>\n      <td>28.0</td>\n      <td>36.4</td>\n      <td>15.0</td>\n      <td>7.9</td>\n      <td>120</td>\n      <td>-76570</td>\n      <td>3002806</td>\n      <td>146991</td>\n      <td>223561</td>\n    </tr>\n    <tr>\n      <th>2</th>\n      <td>4</td>\n      <td>23</td>\n      <td>11</td>\n      <td>2</td>\n      <td>False</td>\n      <td>2020-09-28T19:00:00Z</td>\n      <td>3</td>\n      <td>1</td>\n      <td>3</td>\n      <td>90</td>\n      <td>0</td>\n      <td>0</td>\n      <td>0</td>\n      <td>3</td>\n      <td>0</td>\n      <td>0</td>\n      <td>0</td>\n      <td>0</td>\n      <td>0</td>\n      <td>0</td>\n      <td>0</td>\n      <td>5</td>\n      <td>4.2</td>\n      <td>0.9</td>\n      <td>4.0</td>\n      <td>0.9</td>\n      <td>119</td>\n      <td>-967555</td>\n      <td>2046859</td>\n      <td>50656</td>\n      <td>1018211</td>\n    </tr>\n    <tr>\n      <th>3</th>\n      <td>4</td>\n      <td>29</td>\n      <td>15</td>\n      <td>2</td>\n      <td>True</td>\n      <td>2020-10-04T13:00:00Z</td>\n      <td>2</td>\n      <td>1</td>\n      <td>4</td>\n      <td>90</td>\n      <td>0</td>\n      <td>0</td>\n      <td>0</td>\n      <td>1</td>\n      <td>0</td>\n      <td>0</td>\n      <td>0</td>\n      <td>0</td>\n      <td>0</td>\n      <td>0</td>\n      <td>0</td>\n      <td>10</td>\n      <td>9.4</td>\n      <td>4.6</td>\n      <td>30.0</td>\n      <td>4.4</td>\n      <td>119</td>\n      <td>-120167</td>\n      <td>2000213</td>\n      <td>106551</td>\n      <td>226718</td>\n    </tr>\n    <tr>\n      <th>4</th>\n      <td>4</td>\n      <td>44</td>\n      <td>12</td>\n      <td>2</td>\n      <td>False</td>\n      <td>2020-10-17T16:30:00Z</td>\n      <td>1</td>\n      <td>0</td>\n      <td>5</td>\n      <td>90</td>\n      <td>0</td>\n      <td>0</td>\n      <td>0</td>\n      <td>1</td>\n      <td>0</td>\n      <td>0</td>\n      <td>0</td>\n      <td>0</td>\n      <td>0</td>\n      <td>0</td>\n      <td>0</td>\n      <td>7</td>\n      <td>8.6</td>\n      <td>29.9</td>\n      <td>2.0</td>\n      <td>4.1</td>\n      <td>118</td>\n      <td>-582811</td>\n      <td>1397443</td>\n      <td>29415</td>\n      <td>612226</td>\n    </tr>\n  </tbody>\n</table>\n</div>",
      "text/plain": "   element  fixture  opponent_team  total_points  was_home  \\\n0        4        2              8             7     False   \n1        4        9             19             5      True   \n2        4       23             11             2     False   \n3        4       29             15             2      True   \n4        4       44             12             2     False   \n\n           kickoff_time  team_h_score  team_a_score  round  minutes  \\\n0  2020-09-12T11:30:00Z             0             3      1       90   \n1  2020-09-19T19:00:00Z             2             1      2       90   \n2  2020-09-28T19:00:00Z             3             1      3       90   \n3  2020-10-04T13:00:00Z             2             1      4       90   \n4  2020-10-17T16:30:00Z             1             0      5       90   \n\n   goals_scored  assists  clean_sheets  goals_conceded  own_goals  \\\n0             1        0             1               0          0   \n1             0        1             0               1          0   \n2             0        0             0               3          0   \n3             0        0             0               1          0   \n4             0        0             0               1          0   \n\n   penalties_saved  penalties_missed  yellow_cards  red_cards  saves  bonus  \\\n0                0                 0             1          0      0      0   \n1                0                 0             0          0      0      0   \n2                0                 0             0          0      0      0   \n3                0                 0             0          0      0      0   \n4                0                 0             0          0      0      0   \n\n   bps influence creativity threat ict_index  value  transfers_balance  \\\n0   19      36.6       15.3   54.0      10.6    120                  0   \n1   20      28.0       36.4   15.0       7.9    120             -76570   \n2    5       4.2        0.9    4.0       0.9    119            -967555   \n3   10       9.4        4.6   30.0       4.4    119            -120167   \n4    7       8.6       29.9    2.0       4.1    118            -582811   \n\n   selected  transfers_in  transfers_out  \n0   2823465             0              0  \n1   3002806        146991         223561  \n2   2046859         50656        1018211  \n3   2000213        106551         226718  \n4   1397443         29415         612226  "
     },
     "execution_count": 12,
     "metadata": {},
     "output_type": "execute_result"
    }
   ],
   "source": [
    "pd.json_normalize(r['history']).head()"
   ]
  },
  {
   "cell_type": "markdown",
   "metadata": {},
   "source": [
    "If we create a function to get gameweek history for a player, we can then apply this function across all the rows of the `players` dataframe"
   ]
  },
  {
   "cell_type": "code",
   "execution_count": 13,
   "metadata": {},
   "outputs": [
    {
     "data": {
      "text/html": "<div>\n<style scoped>\n    .dataframe tbody tr th:only-of-type {\n        vertical-align: middle;\n    }\n\n    .dataframe tbody tr th {\n        vertical-align: top;\n    }\n\n    .dataframe thead th {\n        text-align: right;\n    }\n</style>\n<table border=\"1\" class=\"dataframe\">\n  <thead>\n    <tr style=\"text-align: right;\">\n      <th></th>\n      <th>round</th>\n      <th>total_points</th>\n      <th>minutes</th>\n      <th>goals_scored</th>\n      <th>assists</th>\n    </tr>\n  </thead>\n  <tbody>\n    <tr>\n      <th>0</th>\n      <td>1</td>\n      <td>7</td>\n      <td>90</td>\n      <td>1</td>\n      <td>0</td>\n    </tr>\n    <tr>\n      <th>1</th>\n      <td>2</td>\n      <td>5</td>\n      <td>90</td>\n      <td>0</td>\n      <td>1</td>\n    </tr>\n    <tr>\n      <th>2</th>\n      <td>3</td>\n      <td>2</td>\n      <td>90</td>\n      <td>0</td>\n      <td>0</td>\n    </tr>\n    <tr>\n      <th>3</th>\n      <td>4</td>\n      <td>2</td>\n      <td>90</td>\n      <td>0</td>\n      <td>0</td>\n    </tr>\n    <tr>\n      <th>4</th>\n      <td>5</td>\n      <td>2</td>\n      <td>90</td>\n      <td>0</td>\n      <td>0</td>\n    </tr>\n  </tbody>\n</table>\n</div>",
      "text/plain": "   round  total_points  minutes  goals_scored  assists\n0      1             7       90             1        0\n1      2             5       90             0        1\n2      3             2       90             0        0\n3      4             2       90             0        0\n4      5             2       90             0        0"
     },
     "execution_count": 13,
     "metadata": {},
     "output_type": "execute_result"
    }
   ],
   "source": [
    "def get_gameweek_history(player_id):\r\n",
    "    '''get all gameweek info for a given player_id'''\r\n",
    "    \r\n",
    "    # send GET request to\r\n",
    "    # https://fantasy.premierleague.com/api/element-summary/{PID}/\r\n",
    "    r = requests.get(\r\n",
    "            base_url + 'element-summary/' + str(player_id) + '/'\r\n",
    "    ).json()\r\n",
    "    \r\n",
    "    # extract 'history' data from response into dataframe\r\n",
    "    df = pd.json_normalize(r['history'])\r\n",
    "\r\n",
    "    # avoid getting rate limited\r\n",
    "    time.sleep(.3)\r\n",
    "    \r\n",
    "    return df\r\n",
    "\r\n",
    "    \r\n",
    "# show player #4's gameweek history\r\n",
    "get_gameweek_history(4)[\r\n",
    "    ['round', 'total_points', 'minutes', 'goals_scored', 'assists']].head()"
   ]
  },
  {
   "cell_type": "markdown",
   "metadata": {},
   "source": [
    "The same can be done to get past seasons' summaries"
   ]
  },
  {
   "cell_type": "code",
   "execution_count": 14,
   "metadata": {},
   "outputs": [
    {
     "data": {
      "text/html": "<div>\n<style scoped>\n    .dataframe tbody tr th:only-of-type {\n        vertical-align: middle;\n    }\n\n    .dataframe tbody tr th {\n        vertical-align: top;\n    }\n\n    .dataframe thead th {\n        text-align: right;\n    }\n</style>\n<table border=\"1\" class=\"dataframe\">\n  <thead>\n    <tr style=\"text-align: right;\">\n      <th></th>\n      <th>id</th>\n      <th>season_name</th>\n      <th>total_points</th>\n      <th>minutes</th>\n      <th>goals_scored</th>\n      <th>assists</th>\n    </tr>\n  </thead>\n  <tbody>\n    <tr>\n      <th>0</th>\n      <td>1</td>\n      <td>2013/14</td>\n      <td>137</td>\n      <td>2141</td>\n      <td>5</td>\n      <td>10</td>\n    </tr>\n    <tr>\n      <th>1</th>\n      <td>1</td>\n      <td>2014/15</td>\n      <td>103</td>\n      <td>1857</td>\n      <td>4</td>\n      <td>6</td>\n    </tr>\n    <tr>\n      <th>2</th>\n      <td>1</td>\n      <td>2015/16</td>\n      <td>200</td>\n      <td>3036</td>\n      <td>6</td>\n      <td>19</td>\n    </tr>\n    <tr>\n      <th>3</th>\n      <td>1</td>\n      <td>2016/17</td>\n      <td>167</td>\n      <td>2841</td>\n      <td>8</td>\n      <td>11</td>\n    </tr>\n    <tr>\n      <th>4</th>\n      <td>1</td>\n      <td>2017/18</td>\n      <td>112</td>\n      <td>2161</td>\n      <td>4</td>\n      <td>9</td>\n    </tr>\n    <tr>\n      <th>5</th>\n      <td>1</td>\n      <td>2018/19</td>\n      <td>89</td>\n      <td>1732</td>\n      <td>5</td>\n      <td>3</td>\n    </tr>\n    <tr>\n      <th>6</th>\n      <td>1</td>\n      <td>2019/20</td>\n      <td>53</td>\n      <td>1439</td>\n      <td>1</td>\n      <td>3</td>\n    </tr>\n  </tbody>\n</table>\n</div>",
      "text/plain": "   id season_name  total_points  minutes  goals_scored  assists\n0   1     2013/14           137     2141             5       10\n1   1     2014/15           103     1857             4        6\n2   1     2015/16           200     3036             6       19\n3   1     2016/17           167     2841             8       11\n4   1     2017/18           112     2161             4        9\n5   1     2018/19            89     1732             5        3\n6   1     2019/20            53     1439             1        3"
     },
     "execution_count": 14,
     "metadata": {},
     "output_type": "execute_result"
    }
   ],
   "source": [
    "def get_season_history(player_id):\r\n",
    "    '''get all past season info for a given player_id'''\r\n",
    "    \r\n",
    "    # send GET request to\r\n",
    "    # fantasy.premierleague.com/api/element-summary/{PID}/\r\n",
    "    r = requests.get(\r\n",
    "        base_url + 'element-summary/' + str(player_id) + '/').json()\r\n",
    "    \r\n",
    "    # extract 'history_past' data from response into dataframe\r\n",
    "    df = pd.json_normalize(r['history_past'])\r\n",
    "    df.insert(0, 'id', player_id)\r\n",
    "\r\n",
    "    # avoid getting rate limited\r\n",
    "    time.sleep(.3)\r\n",
    "    \r\n",
    "    return df\r\n",
    "\r\n",
    "\r\n",
    "# show player #1's gameweek history\r\n",
    "get_season_history(1)[['id', 'season_name', 'total_points', 'minutes',\r\n",
    "                       'goals_scored', 'assists']].head(10)"
   ]
  },
  {
   "cell_type": "code",
   "execution_count": 15,
   "metadata": {},
   "outputs": [
    {
     "name": "stderr",
     "output_type": "stream",
     "text": [
      "100%|██████████| 706/706 [05:35<00:00,  2.11it/s]\n"
     ]
    }
   ],
   "source": [
    "# get gameweek histories for each player\r\n",
    "points = players['id'].progress_apply(get_gameweek_history)\r\n",
    "\r\n",
    "# combine results into single dataframe\r\n",
    "points = pd.concat(df for df in points)\r\n",
    "\r\n",
    "# rename columns\r\n",
    "points.rename({'element':'id'}, axis=1, inplace=True)\r\n",
    "\r\n",
    "# save to CSV\r\n",
    "points.to_csv(os.path.join(data_folder, 'gameweek_history.csv'), index=False)"
   ]
  },
  {
   "cell_type": "code",
   "execution_count": 16,
   "metadata": {},
   "outputs": [
    {
     "name": "stderr",
     "output_type": "stream",
     "text": [
      "100%|██████████| 706/706 [05:31<00:00,  2.13it/s]\n"
     ]
    }
   ],
   "source": [
    "# get season histories for each player\r\n",
    "seasons = players['id'].progress_apply(get_season_history)\r\n",
    "\r\n",
    "# combine results into single dataframe\r\n",
    "seasons = pd.concat(df for df in seasons)\r\n",
    "\r\n",
    "# save to CSV\r\n",
    "seasons.to_csv(os.path.join(data_folder, 'seasons_history.csv'), index=False)"
   ]
  }
 ],
 "metadata": {
  "kernelspec": {
   "display_name": "Python 3.7.10 64-bit ('fpl': conda)",
   "name": "python3710jvsc74a57bd063c9c826865e451c6fa06891e725f91d73a60f68b82d6b52505407b964bf3d36"
  },
  "language_info": {
   "codemirror_mode": {
    "name": "ipython",
    "version": 3
   },
   "file_extension": ".py",
   "mimetype": "text/x-python",
   "name": "python",
   "nbconvert_exporter": "python",
   "pygments_lexer": "ipython3",
   "version": "3.7.10"
  }
 },
 "nbformat": 4,
 "nbformat_minor": 4
}