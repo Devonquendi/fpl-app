{
 "cells": [
  {
   "cell_type": "markdown",
   "id": "e46e5099-3d3e-427d-8be2-e007850a8d73",
   "metadata": {},
   "source": [
    "[FPL Optimized link](http://fploptimized.com/)"
   ]
  },
  {
   "cell_type": "code",
   "execution_count": 1,
   "id": "abbbe1fd-7440-4679-bd3a-a2b69407788f",
   "metadata": {},
   "outputs": [
    {
     "data": {
      "image/jpeg": "[encoded data removed]",
      "text/html": [
       "\n",
       "        <iframe\n",
       "            width=\"400\"\n",
       "            height=\"300\"\n",
       "            src=\"https://www.youtube.com/embed/DFXCXoR6Dvw\"\n",
       "            frameborder=\"0\"\n",
       "            allowfullscreen\n",
       "        ></iframe>\n",
       "        "
      ],
      "text/plain": [
       "<IPython.lib.display.YouTubeVideo at 0x1ceeab21b88>"
      ]
     },
     "execution_count": 1,
     "metadata": {},
     "output_type": "execute_result"
    }
   ],
   "source": [
    "from IPython.lib.display import YouTubeVideo\n",
    "\n",
    "YouTubeVideo('DFXCXoR6Dvw')"
   ]
  },
  {
   "cell_type": "code",
   "execution_count": 2,
   "id": "4b65292d-3ace-472b-a592-799e0ad2a84c",
   "metadata": {},
   "outputs": [],
   "source": [
    "import os\n",
    "import sasoptpy as so\n",
    "import pandas as pd\n",
    "\n",
    "\n",
    "DATA_DIR = os.path.join('data', 'fplreview')"
   ]
  },
  {
   "cell_type": "code",
   "execution_count": 3,
   "id": "87a9d3d2-81fc-4e6c-a478-60bbac50f734",
   "metadata": {},
   "outputs": [
    {
     "data": {
      "text/html": [
       "<div>\n",
       "<style scoped>\n",
       "    .dataframe tbody tr th:only-of-type {\n",
       "        vertical-align: middle;\n",
       "    }\n",
       "\n",
       "    .dataframe tbody tr th {\n",
       "        vertical-align: top;\n",
       "    }\n",
       "\n",
       "    .dataframe thead th {\n",
       "        text-align: right;\n",
       "    }\n",
       "</style>\n",
       "<table border=\"1\" class=\"dataframe\">\n",
       "  <thead>\n",
       "    <tr style=\"text-align: right;\">\n",
       "      <th></th>\n",
       "      <th>Pos</th>\n",
       "      <th>Name</th>\n",
       "      <th>BV</th>\n",
       "      <th>SV</th>\n",
       "      <th>Team</th>\n",
       "      <th>xMins</th>\n",
       "      <th>Pts</th>\n",
       "    </tr>\n",
       "  </thead>\n",
       "  <tbody>\n",
       "    <tr>\n",
       "      <th>156</th>\n",
       "      <td>G</td>\n",
       "      <td>Pickford</td>\n",
       "      <td>4.8</td>\n",
       "      <td>4.8</td>\n",
       "      <td>Everton</td>\n",
       "      <td>89</td>\n",
       "      <td>4.390</td>\n",
       "    </tr>\n",
       "    <tr>\n",
       "      <th>277</th>\n",
       "      <td>G</td>\n",
       "      <td>Ederson</td>\n",
       "      <td>6.1</td>\n",
       "      <td>6.1</td>\n",
       "      <td>Man City</td>\n",
       "      <td>89</td>\n",
       "      <td>4.360</td>\n",
       "    </tr>\n",
       "    <tr>\n",
       "      <th>382</th>\n",
       "      <td>G</td>\n",
       "      <td>Lloris</td>\n",
       "      <td>5.6</td>\n",
       "      <td>5.6</td>\n",
       "      <td>Spurs</td>\n",
       "      <td>89</td>\n",
       "      <td>4.274</td>\n",
       "    </tr>\n",
       "    <tr>\n",
       "      <th>251</th>\n",
       "      <td>G</td>\n",
       "      <td>Alisson</td>\n",
       "      <td>5.9</td>\n",
       "      <td>5.9</td>\n",
       "      <td>Liverpool</td>\n",
       "      <td>89</td>\n",
       "      <td>4.254</td>\n",
       "    </tr>\n",
       "    <tr>\n",
       "      <th>11</th>\n",
       "      <td>G</td>\n",
       "      <td>Martínez</td>\n",
       "      <td>5.4</td>\n",
       "      <td>5.2</td>\n",
       "      <td>Aston Villa</td>\n",
       "      <td>89</td>\n",
       "      <td>3.761</td>\n",
       "    </tr>\n",
       "  </tbody>\n",
       "</table>\n",
       "</div>"
      ],
      "text/plain": [
       "    Pos      Name   BV   SV         Team  xMins    Pts\n",
       "156   G  Pickford  4.8  4.8      Everton     89  4.390\n",
       "277   G   Ederson  6.1  6.1     Man City     89  4.360\n",
       "382   G    Lloris  5.6  5.6        Spurs     89  4.274\n",
       "251   G   Alisson  5.9  5.9    Liverpool     89  4.254\n",
       "11    G  Martínez  5.4  5.2  Aston Villa     89  3.761"
      ]
     },
     "execution_count": 3,
     "metadata": {},
     "output_type": "execute_result"
    }
   ],
   "source": [
    "# load all players' GW36 projections\n",
    "df = pd.read_csv(os.path.join(DATA_DIR, 'gw36.csv'))\n",
    "df.columns = ['Pos', 'Name', 'BV', 'SV', 'Team', 'xMins', 'Pts']\n",
    "\n",
    "# filter dataframe to only goalkeepers\n",
    "df = df[df['Pos'] == 'G']\n",
    "\n",
    "# show top 5 projections\n",
    "df.sort_values('Pts', ascending=False).head()"
   ]
  },
  {
   "cell_type": "code",
   "execution_count": 4,
   "id": "f9e298b4-227b-4e2d-ace5-9814472f422f",
   "metadata": {},
   "outputs": [],
   "source": [
    "def solve_gk_problem(gk_data, budget):\n",
    "    \n",
    "    model = so.Model(name='gk_model')\n",
    "    players = gk_data.index.tolist()\n",
    "    \n",
    "    # Variables\n",
    "    lineup = model.add_variables(players, name='lineup', vartype=so.binary)\n",
    "    bench = model.add_variables(players, name='bench', vartype=so.binary)\n",
    "    # Objective\n",
    "    total_xp = so.expr_sum(lineup[p] * gk_data.loc[p, 'Pts'] for p in players) +\\\n",
    "        0.1 * so.expr_sum(bench[p] * gk_data.loc[p, 'Pts'] for p in players)\n",
    "    model.set_objective(-total_xp, name='total_xp_obj', sense='N')\n",
    "    # Contraints\n",
    "    # A player cannot be selected twice (bench and starting)\n",
    "    model.add_constraints((lineup[p] + bench[p] <= 1 for p in players),\n",
    "                          name='max_selections')\n",
    "    # Must have exactly one starting GK\n",
    "    model.add_constraint(so.expr_sum(lineup[p] for p in players) == 1,\n",
    "                         name='single_lineup')\n",
    "    # Must have one GK on bench\n",
    "    model.add_constraint(so.expr_sum(bench[p] for p in players) == 1,\n",
    "                         name='single_bench')\n",
    "    # Combined value of players cannot exceed budget\n",
    "    model.add_constraint(\n",
    "        so.expr_sum(\n",
    "            (lineup[p] + bench[p]) * gk_data.loc[p, 'BV'] for p in players\n",
    "        ) <= budget, name='max_budget'\n",
    "    )\n",
    "    # Solve Step\n",
    "    model.export_mps(filename='gk.mps')\n",
    "    command = 'cbc gk.mps solve solu solution.txt'\n",
    "    os.system(command)\n",
    "    with open('solution.txt', 'r') as f:\n",
    "        for v in model.get_variables():\n",
    "            v.set_value(0)\n",
    "        for line in f:\n",
    "            if 'objective value' in line:\n",
    "                continue\n",
    "            words = line.split()\n",
    "            var = model.get_variable(words[1])\n",
    "            var.set_value(float(words[2]))\n",
    "    print(\"LINEUP\")\n",
    "    for p in players:\n",
    "        if lineup[p].get_value() > 0.5:\n",
    "            print(p, gk_data.loc[p])\n",
    "    print(\"BENCH\")\n",
    "    for p in players:\n",
    "        if bench[p].get_value() > 0.5:\n",
    "            print(p, gk_data.loc[p])"
   ]
  },
  {
   "cell_type": "code",
   "execution_count": 5,
   "id": "11c2b3b1-e77b-4d5b-89c3-38aabf1ddad2",
   "metadata": {},
   "outputs": [
    {
     "name": "stdout",
     "output_type": "stream",
     "text": [
      "NOTE: Initialized model gk_model.\n",
      "LINEUP\n",
      "156 Pos             G\n",
      "Name     Pickford\n",
      "BV            4.8\n",
      "SV            4.8\n",
      "Team      Everton\n",
      "xMins          89\n",
      "Pts          4.39\n",
      "Name: 156, dtype: object\n",
      "BENCH\n",
      "212 Pos            G\n",
      "Name     Meslier\n",
      "BV           4.7\n",
      "SV           4.7\n",
      "Team       Leeds\n",
      "xMins         89\n",
      "Pts         3.71\n",
      "Name: 212, dtype: object\n"
     ]
    }
   ],
   "source": [
    "solve_gk_problem(df, 10)"
   ]
  }
 ],
 "metadata": {
  "kernelspec": {
   "display_name": "Python [conda env:fpl]",
   "language": "python",
   "name": "conda-env-fpl-py"
  },
  "language_info": {
   "codemirror_mode": {
    "name": "ipython",
    "version": 3
   },
   "file_extension": ".py",
   "mimetype": "text/x-python",
   "name": "python",
   "nbconvert_exporter": "python",
   "pygments_lexer": "ipython3",
   "version": "3.7.10"
  }
 },
 "nbformat": 4,
 "nbformat_minor": 5
}
